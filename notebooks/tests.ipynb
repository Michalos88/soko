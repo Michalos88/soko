{
 "cells": [
  {
   "cell_type": "code",
   "execution_count": 1,
   "id": "232eb2f9",
   "metadata": {},
   "outputs": [],
   "source": [
    "import sys\n",
    "sys.path.append(\"../\")"
   ]
  },
  {
   "cell_type": "code",
   "execution_count": 2,
   "id": "10501f2b",
   "metadata": {},
   "outputs": [],
   "source": [
    "from src.api.stateful_cilent import StatefulClient"
   ]
  },
  {
   "cell_type": "code",
   "execution_count": 3,
   "id": "b5d242af",
   "metadata": {},
   "outputs": [],
   "source": [
    "test_client = StatefulClient(api_name='test')"
   ]
  },
  {
   "cell_type": "code",
   "execution_count": 4,
   "id": "a508b793",
   "metadata": {},
   "outputs": [],
   "source": [
    "test_client.reset_state()"
   ]
  },
  {
   "cell_type": "code",
   "execution_count": 5,
   "id": "e008d835",
   "metadata": {},
   "outputs": [],
   "source": [
    "test_client.get(url='')"
   ]
  },
  {
   "cell_type": "code",
   "execution_count": 6,
   "id": "5448d733",
   "metadata": {},
   "outputs": [],
   "source": [
    "test_client.set_limit(4)"
   ]
  },
  {
   "cell_type": "code",
   "execution_count": 7,
   "id": "ec821f15",
   "metadata": {},
   "outputs": [
    {
     "data": {
      "text/plain": [
       "{'name': 'test',\n",
       " 'state_path': PosixPath('../data/test.pkl'),\n",
       " 'request_count': 1,\n",
       " 'request_limit': 4,\n",
       " 'all_requests': [{'url': '', 'res': None}]}"
      ]
     },
     "execution_count": 7,
     "metadata": {},
     "output_type": "execute_result"
    }
   ],
   "source": [
    "test_client.state"
   ]
  },
  {
   "cell_type": "code",
   "execution_count": 8,
   "id": "a036da8f",
   "metadata": {},
   "outputs": [],
   "source": [
    "test_client.get(url='')\n",
    "test_client.get(url='')\n",
    "test_client.get(url='')\n",
    "try:\n",
    "    test_client.get(url='')\n",
    "    raise AssertionError()\n",
    "except RuntimeError:\n",
    "    pass"
   ]
  },
  {
   "cell_type": "code",
   "execution_count": 9,
   "id": "a2b98e98",
   "metadata": {},
   "outputs": [],
   "source": [
    "test_client.reset_state()"
   ]
  },
  {
   "cell_type": "code",
   "execution_count": 10,
   "id": "88229e0e",
   "metadata": {},
   "outputs": [],
   "source": [
    "test_client.get(url='')\n",
    "test_client.get(url='')\n",
    "test_client.get(url='')\n",
    "test_client.get(url='')"
   ]
  },
  {
   "cell_type": "code",
   "execution_count": 11,
   "id": "79ed0cbd",
   "metadata": {},
   "outputs": [
    {
     "data": {
      "text/plain": [
       "{'name': 'test',\n",
       " 'state_path': PosixPath('../data/test.pkl'),\n",
       " 'request_count': 4,\n",
       " 'request_limit': 10000,\n",
       " 'all_requests': [{'url': '', 'res': None},\n",
       "  {'url': '', 'res': None},\n",
       "  {'url': '', 'res': None},\n",
       "  {'url': '', 'res': None}]}"
      ]
     },
     "execution_count": 11,
     "metadata": {},
     "output_type": "execute_result"
    }
   ],
   "source": [
    "test_client.state"
   ]
  },
  {
   "cell_type": "code",
   "execution_count": 12,
   "id": "5689d984",
   "metadata": {},
   "outputs": [],
   "source": [
    "test_client.reset_state()"
   ]
  },
  {
   "cell_type": "code",
   "execution_count": 13,
   "id": "919e7057",
   "metadata": {},
   "outputs": [
    {
     "data": {
      "text/plain": [
       "{'name': 'test',\n",
       " 'state_path': PosixPath('../data/test.pkl'),\n",
       " 'request_count': 0,\n",
       " 'request_limit': 10000,\n",
       " 'all_requests': []}"
      ]
     },
     "execution_count": 13,
     "metadata": {},
     "output_type": "execute_result"
    }
   ],
   "source": [
    "test_client.state"
   ]
  }
 ],
 "metadata": {
  "kernelspec": {
   "display_name": "Python 3 (ipykernel)",
   "language": "python",
   "name": "python3"
  },
  "language_info": {
   "codemirror_mode": {
    "name": "ipython",
    "version": 3
   },
   "file_extension": ".py",
   "mimetype": "text/x-python",
   "name": "python",
   "nbconvert_exporter": "python",
   "pygments_lexer": "ipython3",
   "version": "3.9.16"
  }
 },
 "nbformat": 4,
 "nbformat_minor": 5
}
